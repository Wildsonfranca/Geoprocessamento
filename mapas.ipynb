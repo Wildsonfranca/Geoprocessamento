{
 "cells": [
  {
   "cell_type": "markdown",
   "metadata": {},
   "source": [
    "# **Mapas**\n",
    "\n",
    "\n",
    "## Na aula de hoje, vamos trabalhar com **geoprocessamento**, que nada mais é do que a exibição de dados em mapas geográficos . Na célula de código de abaixo , vamos importar a biblioteca de geração de mapas geográficos.\n",
    "## Para isso ,vamos fazer o uso da biblioteca **foliun**.Para usarmos ,precisaremos instalá-la através do comando `pip install folium`.\n",
    "\n",
    "\n",
    "\n"
   ]
  },
  {
   "cell_type": "code",
   "execution_count": 18,
   "metadata": {},
   "outputs": [],
   "source": [
    "import folium"
   ]
  },
  {
   "cell_type": "markdown",
   "metadata": {},
   "source": [
    "## Na próxima célula de código, vamos gerar um mapa e fazê-lo abrir na cidade de ***Brasília-DF***."
   ]
  },
  {
   "cell_type": "code",
   "execution_count": null,
   "metadata": {},
   "outputs": [],
   "source": [
    "mapa = folium.Map(location =[-15.7834301996,-47.899],zoom_start=13)#,tiles= 'cartodb positron')\n",
    "display(mapa)"
   ]
  },
  {
   "cell_type": "markdown",
   "metadata": {},
   "source": [
    "## Na próxima célula de código vamos criar marcações de lugares."
   ]
  },
  {
   "cell_type": "code",
   "execution_count": null,
   "metadata": {},
   "outputs": [],
   "source": [
    "folium.Marker(location=[-15.7948,-47.91319],popup='SENAI SIG.\\nOnde está acontecendo o curso de Python Developer!',icon=folium.Icon(icon='user',color='black')).add_to(mapa)\n",
    "folium.Marker(location=[-15.783430196,-47.899],popup='Estadio Nacional Mané Garrincha',icon=folium.Icon(color='red')).add_to(mapa)\n",
    "display(mapa)\n"
   ]
  }
 ],
 "metadata": {
  "kernelspec": {
   "display_name": ".venv",
   "language": "python",
   "name": "python3"
  },
  "language_info": {
   "codemirror_mode": {
    "name": "ipython",
    "version": 3
   },
   "file_extension": ".py",
   "mimetype": "text/x-python",
   "name": "python",
   "nbconvert_exporter": "python",
   "pygments_lexer": "ipython3",
   "version": "3.12.5"
  }
 },
 "nbformat": 4,
 "nbformat_minor": 2
}
